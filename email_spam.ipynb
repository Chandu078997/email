{
 "cells": [
  {
   "cell_type": "code",
   "execution_count": 1,
   "id": "bfb55cfc-e805-4246-b35e-a8454845703b",
   "metadata": {},
   "outputs": [
    {
     "name": "stdout",
     "output_type": "stream",
     "text": [
      "dxd\n"
     ]
    }
   ],
   "source": [
    "print('dxd')"
   ]
  },
  {
   "cell_type": "code",
   "execution_count": 2,
   "id": "ee6f341b-c8f3-44f7-9fa9-1a88a551bc11",
   "metadata": {},
   "outputs": [
    {
     "name": "stdout",
     "output_type": "stream",
     "text": [
      "[4]\n"
     ]
    }
   ],
   "source": [
    "a={1,2,3,4}\n",
    "b={3,4,5}\n",
    "c,*d=a&b\n",
    "print(d)"
   ]
  },
  {
   "cell_type": "code",
   "execution_count": 4,
   "id": "ec157563-f562-4f98-9e34-5daf2f607f46",
   "metadata": {},
   "outputs": [
    {
     "name": "stdout",
     "output_type": "stream",
     "text": [
      "                                                   text  spam\n",
      "0     Subject: naturally irresistible your corporate...     1\n",
      "1     Subject: the stock trading gunslinger  fanny i...     1\n",
      "2     Subject: unbelievable new homes made easy  im ...     1\n",
      "3     Subject: 4 color printing special  request add...     1\n",
      "4     Subject: do not have money , get software cds ...     1\n",
      "...                                                 ...   ...\n",
      "5723  Subject: re : research and development charges...     0\n",
      "5724  Subject: re : receipts from visit  jim ,  than...     0\n",
      "5725  Subject: re : enron case study update  wow ! a...     0\n",
      "5726  Subject: re : interest  david ,  please , call...     0\n",
      "5727  Subject: news : aurora 5 . 2 update  aurora ve...     0\n",
      "\n",
      "[5728 rows x 2 columns]\n",
      "Accuracy: 98.77835951134381 %\n",
      "[0 0 0 ... 1 0 0]\n",
      "This is a Spam Email!\n"
     ]
    }
   ],
   "source": [
    "from sklearn.feature_extraction.text import TfidfVectorizer\n",
    "from sklearn.linear_model import LogisticRegression\n",
    "# Load the dataset\n",
    "import pandas as pd\n",
    "from sklearn.feature_extraction.text import CountVectorizer\n",
    "from sklearn.model_selection import train_test_split\n",
    "from sklearn.naive_bayes import MultinomialNB\n",
    "from sklearn.metrics import classification_report, confusion_matrix, accuracy_score\n",
    "news = pd.read_csv('/home/chandana/Documents/email_spam_project/dataset/emails.csv')\n",
    "# Split the data into training and testing sets\n",
    "print(news)\n",
    "X_train, X_test, y_train, y_test = train_test_split(news['text'], news['spam'],test_size=0.2)\n",
    "# Create a TfidfVectorizer to convert text to numerical features\n",
    "vectorizer = TfidfVectorizer()\n",
    "X_train1 = vectorizer.fit_transform(X_train)\n",
    "X_test1 = vectorizer.transform(X_test)\n",
    "# Train a logistic regression model\n",
    "model = LogisticRegression()\n",
    "model.fit(X_train1, y_train)\n",
    "# Evaluate the model on the test set\n",
    "score = model.score(X_test1, y_test)\n",
    "print('Accuracy:', score*100,'%')\n",
    "pred=model.predict(X_train1)\n",
    "print(pred)\n",
    "from sklearn.pipeline import Pipeline\n",
    "clf = Pipeline([\n",
    "    ('vectorizer', CountVectorizer()),  \n",
    "    ('nb', MultinomialNB())  \n",
    "])\n",
    "def detect_spam1(email_text):\n",
    "    \n",
    "    prediction = model.predict(email_text)\n",
    "\n",
    "    if prediction == 0:\n",
    "        return \"This is a Ham Email!\"\n",
    "    else:\n",
    "        return \"This is a Spam Email!\"\n",
    "sample_email = 'Subject: do not have money , get software cds from here !  software compatibility . . . . ain  t it great ?  grow old along with me the best is yet to be .  all tradgedies are finish  d by death . all comedies are ended by marriage'\n",
    "tfidf=vectorizer.transform([sample_email])\n",
    "#print(tfidf)\n",
    "result = detect_spam1(tfidf)\n",
    "print(result)"
   ]
  }
 ],
 "metadata": {
  "kernelspec": {
   "display_name": "Python 3 (ipykernel)",
   "language": "python",
   "name": "python3"
  },
  "language_info": {
   "codemirror_mode": {
    "name": "ipython",
    "version": 3
   },
   "file_extension": ".py",
   "mimetype": "text/x-python",
   "name": "python",
   "nbconvert_exporter": "python",
   "pygments_lexer": "ipython3",
   "version": "3.8.10"
  }
 },
 "nbformat": 4,
 "nbformat_minor": 5
}
