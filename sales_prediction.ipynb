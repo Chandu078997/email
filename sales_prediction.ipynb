{
 "cells": [
  {
   "cell_type": "code",
   "execution_count": 1,
   "id": "51cd2a01-90bf-45d0-99ee-e2e50e25eccd",
   "metadata": {},
   "outputs": [
    {
     "name": "stdout",
     "output_type": "stream",
     "text": [
      "9\n"
     ]
    }
   ],
   "source": [
    "print(9)"
   ]
  },
  {
   "cell_type": "code",
   "execution_count": null,
   "id": "1b3f9ff4-b4c8-49aa-b714-cbc71bad60b8",
   "metadata": {},
   "outputs": [],
   "source": [
    "#strong\n",
    "#factorial of a given number\n",
    "#with arguments and without return\n",
    "def sum(n):\n",
    "    sum=1\n",
    "    i=1\n",
    "    temp=n\n",
    "    r=1\n",
    "    while(n>=0):\n",
    "        rem=n%10\n",
    "         \n",
    "    for i in range(1,rem+1):\n",
    "        r=r*i\n",
    "    sum=sum+r\n",
    "    n//10\n",
    "    \n",
    "       \n",
    "    print(sum)  \n",
    "         \n",
    "    \n",
    "    \n",
    "sum(5)"
   ]
  },
  {
   "cell_type": "code",
   "execution_count": null,
   "id": "15cebebd-c6b0-4a60-8a2d-bc0d43829315",
   "metadata": {},
   "outputs": [],
   "source": [
    "print(0)"
   ]
  },
  {
   "cell_type": "code",
   "execution_count": 38,
   "id": "afc86b4a-49d0-4065-a6b9-f4dadaf401d2",
   "metadata": {},
   "outputs": [
    {
     "name": "stdout",
     "output_type": "stream",
     "text": [
      "   Unnamed: 0     TV  Radio  Newspaper  Sales\n",
      "0           1  230.1   37.8       69.2   22.1\n",
      "1           2   44.5   39.3       45.1   10.4\n",
      "2           3   17.2   45.9       69.3    9.3\n",
      "3           4  151.5   41.3       58.5   18.5\n",
      "4           5  180.8   10.8       58.4   12.9\n"
     ]
    }
   ],
   "source": [
    "from sklearn.model_selection import train_test_split\n",
    "from sklearn.linear_model import LinearRegression\n",
    "from sklearn.metrics import mean_squared_error\n",
    "from sklearn.preprocessing import LabelEncoder\n",
    "import pandas as pd\n",
    "import numpy as np\n",
    "from sklearn.metrics import accuracy_score, classification_report, confusion_matrix\n",
    "\n",
    "# Load the dataset\n",
    "df = pd.read_csv('/home/chandana/Advertising.csv')\n",
    "print(df.head())\n",
    "X=df[['TV','Radio','Newspaper']]\n",
    "\n",
    "y=df['Sales']\n",
    "X_train, X_test, y_train, y_test = train_test_split(X, y, test_size=0.2, random_state=42)\n",
    "\n"
   ]
  },
  {
   "cell_type": "code",
   "execution_count": 40,
   "id": "d4de1d3c-db57-4f54-95fa-cdb3a8a94503",
   "metadata": {},
   "outputs": [
    {
     "name": "stdout",
     "output_type": "stream",
     "text": [
      "16.408024203228628\n",
      "3.7593389648402757\n",
      "Mean Squared Error: 3.1740973539761033\n",
      "    TV  Radio  Newspaper\n",
      "0  1.0    5.9       20.5\n",
      "Predicted tv price for 1.0 with 5.9 km and newspaper20.5: 4.196650519572195\n"
     ]
    },
    {
     "name": "stderr",
     "output_type": "stream",
     "text": [
      "/home/chandana/.local/lib/python3.8/site-packages/sklearn/base.py:465: UserWarning: X does not have valid feature names, but LinearRegression was fitted with feature names\n",
      "  warnings.warn(\n",
      "/home/chandana/.local/lib/python3.8/site-packages/sklearn/base.py:465: UserWarning: X does not have valid feature names, but LinearRegression was fitted with feature names\n",
      "  warnings.warn(\n"
     ]
    }
   ],
   "source": [
    "# Create a linear regression model\n",
    "model = LinearRegression()\n",
    "\n",
    "# Train the model using the training data\n",
    "model.fit(X_train, y_train)\n",
    "y_pred = model.predict(X_test)\n",
    "#print(X_test)\n",
    "print(y_pred[0])\n",
    "y_pred1= model.predict([[8.5,2.1,1]])\n",
    "#print(X_test)\n",
    "print(y_pred1[0])\n",
    "# Evaluate the model using mean squared error\n",
    "mse = mean_squared_error(y_test, y_pred)\n",
    "print(f'Mean Squared Error: {mse}')\n",
    "\n",
    "# Use the model to make predictions\n",
    "def predict_car_price(tv,radio,newspaper):\n",
    "   \n",
    "    input_data = pd.DataFrame([[tv,radio,newspaper]], columns=['TV', 'Radio', 'Newspaper'])\n",
    "    #predicted_price = model.predict(input_data)[0]\n",
    "    #return predicted_price\n",
    "    print(input_data)\n",
    "    predicted_price = model.predict([[tv,radio,newspaper]])[0]\n",
    "    return predicted_price\n",
    "    \n",
    "# Example usage\n",
    "tv= 1.0\n",
    "radio= 5.9\n",
    "newspaper = 20.5\n",
    "predicted_price = predict_car_price(tv, radio, newspaper)\n",
    "print(f'Predicted tv price for {tv} with {radio} km and newspaper{newspaper}: {predicted_price}')"
   ]
  },
  {
   "cell_type": "code",
   "execution_count": null,
   "id": "cb828882-ee77-4357-8ce6-295a38e0424b",
   "metadata": {},
   "outputs": [],
   "source": []
  },
  {
   "cell_type": "code",
   "execution_count": null,
   "id": "75e268c0-959d-4eb1-97e7-fc5c3fbef8a0",
   "metadata": {},
   "outputs": [],
   "source": []
  },
  {
   "cell_type": "code",
   "execution_count": 36,
   "id": "bb521810-1e50-4954-a325-e609c367786a",
   "metadata": {},
   "outputs": [
    {
     "name": "stdout",
     "output_type": "stream",
     "text": [
      "   Unnamed: 0     TV  Radio  Newspaper  Sales\n",
      "0           1  230.1   37.8       69.2   22.1\n",
      "1           2   44.5   39.3       45.1   10.4\n",
      "2           3   17.2   45.9       69.3    9.3\n",
      "3           4  151.5   41.3       58.5   18.5\n",
      "4           5  180.8   10.8       58.4   12.9\n",
      "20.523974409715166\n",
      "53.17694921831442\n",
      "-20550.491134020653\n"
     ]
    },
    {
     "name": "stderr",
     "output_type": "stream",
     "text": [
      "/home/chandana/.local/lib/python3.8/site-packages/sklearn/base.py:458: UserWarning: X has feature names, but LinearRegression was fitted without feature names\n",
      "  warnings.warn(\n"
     ]
    },
    {
     "data": {
      "text/plain": [
       "\"\\n# Use the model to make predictions\\ndef predict_car_price(tv,radio,newspaper):\\n   \\n    input_data = pd.DataFrame([[tv,radio,newspaper]], columns=['TV', 'Radio', 'Newspaper'])\\n    #predicted_price = model.predict(input_data)[0]\\n    #return predicted_price\\n    print(input_data)\\n    predicted_price = model.predict([[tv,radio,newspaper]])[0]\\n    return predicted_price\\n    \\n# Example usage\\ntv= 1.0\\nradio= 5.9\\nnewspaper = 20.5\\npredicted_price = predict_car_price(tv, radio, newspaper)\\nprint(f'Predicted tv price for {tv} with {radio} km and newspaper{newspaper}: {predicted_price}')\\n\""
      ]
     },
     "execution_count": 36,
     "metadata": {},
     "output_type": "execute_result"
    }
   ],
   "source": [
    "from sklearn.model_selection import train_test_split\n",
    "from sklearn.linear_model import LinearRegression\n",
    "from sklearn.metrics import mean_squared_error\n",
    "from sklearn.preprocessing import LabelEncoder\n",
    "from sklearn import svm\n",
    "import pandas as pd\n",
    "import numpy as np\n",
    "from sklearn.preprocessing import StandardScaler\n",
    "\n",
    "# Load the dataset\n",
    "df = pd.read_csv('/home/chandana/Advertising.csv')\n",
    "print(df.head())\n",
    "X=df[['TV','Radio','Newspaper']]\n",
    "\n",
    "y=df['Sales']\n",
    "#X_train, X_test, y_train, y_test = train_test_split(X, y, test_size=0.2, random_state=42)\n",
    "model=StandardScaler()\n",
    "                                            \n",
    "x=model.fit_transform(X)\n",
    "lr=LinearRegression()\n",
    "lr.fit(x,y)\n",
    "y_pred = lr.predict(x)\n",
    "#print(X_test)\n",
    "\n",
    "print(y_pred[0])\n",
    "\n",
    "y_pred1= lr.predict([[8.5,2.1,1]])\n",
    "#print(X_test)\n",
    "print(y_pred1[0])\n",
    "# Evaluate the model using mean squared error\n",
    "\n",
    "'''\n",
    "# Use the model to make predictions\n",
    "def predict_car_price(tv,radio,newspaper):\n",
    "   \n",
    "    input_data = pd.DataFrame([[tv,radio,newspaper]], columns=['TV', 'Radio', 'Newspaper'])\n",
    "    #predicted_price = model.predict(input_data)[0]\n",
    "    #return predicted_price\n",
    "    print(input_data)\n",
    "    predicted_price = model.predict([[tv,radio,newspaper]])[0]\n",
    "    return predicted_price\n",
    "    \n",
    "# Example usage\n",
    "tv= 1.0\n",
    "radio= 5.9\n",
    "newspaper = 20.5\n",
    "predicted_price = predict_car_price(tv, radio, newspaper)\n",
    "print(f'Predicted tv price for {tv} with {radio} km and newspaper{newspaper}: {predicted_price}')\n",
    "'''"
   ]
  },
  {
   "cell_type": "code",
   "execution_count": null,
   "id": "c8ec4e53-cfdf-440f-9f99-d045a3e865fd",
   "metadata": {},
   "outputs": [],
   "source": [
    "#svm"
   ]
  },
  {
   "cell_type": "code",
   "execution_count": 30,
   "id": "1b25e5ba-e0e4-463f-9fd8-da52de07cdf5",
   "metadata": {},
   "outputs": [
    {
     "name": "stdout",
     "output_type": "stream",
     "text": [
      "   Unnamed: 0     TV  Radio  Newspaper  Sales\n",
      "0           1  230.1   37.8       69.2   22.1\n",
      "1           2   44.5   39.3       45.1   10.4\n",
      "2           3   17.2   45.9       69.3    9.3\n",
      "3           4  151.5   41.3       58.5   18.5\n",
      "4           5  180.8   10.8       58.4   12.9\n",
      "prediction: 16.824336824702858\n",
      "Mean Squared Error: 4.00604540443217\n",
      "    TV  Radio  Newspaper\n",
      "0  1.0    5.9       20.5\n",
      "Predicted tv price for 1.0 with 5.9 and newspaper20.5: 6.703540852983688\n"
     ]
    },
    {
     "name": "stderr",
     "output_type": "stream",
     "text": [
      "/home/chandana/.local/lib/python3.8/site-packages/sklearn/base.py:465: UserWarning: X does not have valid feature names, but SVR was fitted with feature names\n",
      "  warnings.warn(\n"
     ]
    }
   ],
   "source": [
    "from sklearn import svm\n",
    "from sklearn.model_selection import train_test_split\n",
    "from sklearn.metrics import mean_squared_error\n",
    "import pandas as pd\n",
    "import numpy as np\n",
    "\n",
    "# Load the data\n",
    " # target variable\n",
    "df = pd.read_csv('/home/chandana/Advertising.csv')\n",
    "print(df.head())\n",
    "X=df[['TV','Radio','Newspaper']]\n",
    "\n",
    "y=df['Sales']\n",
    "# Split the data into training and testing sets\n",
    "X_train, X_test, y_train, y_test = train_test_split(X, y, test_size=0.2, random_state=42)\n",
    "\n",
    "# Create an SVM regressor\n",
    "svm_regressor = svm.SVR(kernel='rbf', C=1, epsilon=0.1)\n",
    "\n",
    "# Train the SVM regressor\n",
    "svm_regressor.fit(X_train, y_train)\n",
    "\n",
    "# Make predictions on the testing set\n",
    "y_pred = svm_regressor.predict(X_test)\n",
    "print(\"prediction:\",y_pred[0])\n",
    "# Evaluate the SVM regressor\n",
    "mse = mean_squared_error(y_test, y_pred)\n",
    "print(f'Mean Squared Error: {mse}')\n",
    "\n",
    "\n",
    "def predict_car_price(tv,radio,newspaper):\n",
    "   \n",
    "    input_data = pd.DataFrame([[tv,radio,newspaper]], columns=['TV', 'Radio', 'Newspaper'])\n",
    "    #predicted_price = model.predict(input_data)[0]\n",
    "    #return predicted_price\n",
    "    print(input_data)\n",
    "    predicted_price = svm_regressor.predict([[tv,radio,newspaper]])[0]\n",
    "    return predicted_price\n",
    "    \n",
    "# Example usage\n",
    "tv= 1.0\n",
    "radio= 5.9\n",
    "newspaper = 20.5\n",
    "predicted_price = predict_car_price(tv, radio, newspaper)\n",
    "print(f'Predicted tv price for {tv} with {radio} and newspaper{newspaper}: {predicted_price}')\n"
   ]
  },
  {
   "cell_type": "code",
   "execution_count": null,
   "id": "bbbf9415-53a2-4955-a2a6-cbb5534fa515",
   "metadata": {},
   "outputs": [],
   "source": [
    "neural networks"
   ]
  },
  {
   "cell_type": "code",
   "execution_count": 37,
   "id": "a3913787-a3fc-42dc-98a2-bd88f8341f92",
   "metadata": {},
   "outputs": [
    {
     "name": "stdout",
     "output_type": "stream",
     "text": [
      "   Unnamed: 0     TV  Radio  Newspaper  Sales\n",
      "0           1  230.1   37.8       69.2   22.1\n",
      "1           2   44.5   39.3       45.1   10.4\n",
      "2           3   17.2   45.9       69.3    9.3\n",
      "3           4  151.5   41.3       58.5   18.5\n",
      "4           5  180.8   10.8       58.4   12.9\n",
      "5/5 [==============================] - 1s 5ms/step - loss: 76.5038\n",
      "2/2 [==============================] - 0s 4ms/step\n",
      "prediction: [14.83717]\n",
      "Mean Squared Error: 23.961401544218013\n",
      "1/1 [==============================] - 0s 102ms/step\n",
      "prediction: [0.6879776]\n"
     ]
    }
   ],
   "source": [
    "from sklearn import svm\n",
    "from sklearn.model_selection import train_test_split\n",
    "from sklearn.metrics import mean_squared_error\n",
    "import pandas as pd\n",
    "import numpy as np\n",
    "from keras.models import Sequential\n",
    "from keras.layers import Dense\n",
    "# Load the data\n",
    " # target variable\n",
    "df = pd.read_csv('/home/chandana/Advertising.csv')\n",
    "print(df.head())\n",
    "X=df[['TV','Radio','Newspaper']]\n",
    "\n",
    "y=df['Sales']\n",
    "# Split the data into training and testing sets\n",
    "X_train, X_test, y_train, y_test = train_test_split(X, y, test_size=0.2, random_state=42)\n",
    "\n",
    "neural= Sequential()\n",
    "neural.add(Dense(64, activation='relu', input_shape=(3,)))\n",
    "neural.add(Dense(32, activation='relu'))\n",
    "neural.add(Dense(1))\n",
    "\n",
    "# Compile the model\n",
    "neural.compile(optimizer='adam', loss='mean_squared_error')\n",
    "\n",
    "# Train the SVM regressor\n",
    "neural.fit(X_train, y_train)\n",
    "\n",
    "# Make predictions on the testing set\n",
    "y_pred = neural.predict(X_test)\n",
    "print(\"prediction:\",y_pred[0])\n",
    "# Evaluate the SVM regressor\n",
    "mse = mean_squared_error(y_test, y_pred)\n",
    "print(f'Mean Squared Error: {mse}')\n",
    "\n",
    "y_pred1 = neural.predict([[8.6,2.1,1]])\n",
    "print(\"prediction:\",y_pred1[0])"
   ]
  }
 ],
 "metadata": {
  "kernelspec": {
   "display_name": "Python 3 (ipykernel)",
   "language": "python",
   "name": "python3"
  },
  "language_info": {
   "codemirror_mode": {
    "name": "ipython",
    "version": 3
   },
   "file_extension": ".py",
   "mimetype": "text/x-python",
   "name": "python",
   "nbconvert_exporter": "python",
   "pygments_lexer": "ipython3",
   "version": "3.8.10"
  }
 },
 "nbformat": 4,
 "nbformat_minor": 5
}
