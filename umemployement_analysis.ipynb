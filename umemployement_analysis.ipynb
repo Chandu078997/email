{
 "cells": [
  {
   "cell_type": "code",
   "execution_count": 41,
   "id": "970a463a-e790-4b3f-ae83-004368b6990e",
   "metadata": {},
   "outputs": [
    {
     "name": "stdout",
     "output_type": "stream",
     "text": [
      "Index(['Region', 'Date', 'Frequency', 'EstimatedUnemploymentRate(%)',\n",
      "       'EstimatedEmployed', 'EstimatedLabourParticipationRate(%)', 'Area'],\n",
      "      dtype='object')\n"
     ]
    },
    {
     "name": "stderr",
     "output_type": "stream",
     "text": [
      "/tmp/ipykernel_101151/3069101492.py:21: UserWarning: Parsing dates in  %d-%m-%Y format when dayfirst=False (the default) was specified. Pass `dayfirst=True` or specify a format to silence this warning.\n",
      "  df['Date']=pd.to_datetime(df['Date'])\n"
     ]
    }
   ],
   "source": [
    "from sklearn.model_selection import train_test_split\n",
    "from sklearn.linear_model import LinearRegression\n",
    "from sklearn.metrics import mean_squared_error\n",
    "from sklearn.preprocessing import LabelEncoder\n",
    "import pandas as pd\n",
    "import numpy as np\n",
    "from sklearn.metrics import accuracy_score, classification_report, confusion_matrix\n",
    "\n",
    "# Load the dataset\n",
    "df = pd.read_csv('/home/chandana/Downloads/Unemployment in India.csv')\n",
    "#print(df.head())\n",
    "print(df.columns)\n",
    "df=df.dropna(axis=0,how=\"any\")\n",
    "#print(df.isnull().sum())\n",
    "le=LabelEncoder()\n",
    "df['Region']=le.fit_transform(df['Region'])\n",
    "#df['Frequency']=le.fit_transform(df['Frequency'])\n",
    "df['Area']=le.fit_transform(df['Area'])\n",
    "\n",
    "#print(df.head())\n",
    "df['Date']=pd.to_datetime(df['Date'])\n",
    "df['Year'] = df['Date'].dt.year\n",
    "df['Month'] = df['Date'].dt.month\n",
    "X=df[['Region', 'Year','Month','EstimatedEmployed', 'EstimatedLabourParticipationRate(%)','Area']]\n",
    "#print(df.isnull().sum())\n",
    "\n",
    "y=df['EstimatedUnemploymentRate(%)']\n",
    "X_train, X_test, y_train, y_test = train_test_split(X, y, test_size=0.2, random_state=42)\n",
    "model= LinearRegression()\n",
    "#print(X_train)\n",
    "#print(y_train)\n",
    "\n",
    "# Train the model using the training data\n",
    "model.fit(X_train, y_train)\n",
    "y_pred = model.predict(X_test)\n",
    "#print(X_test)\n",
    "#print(y_pred)"
   ]
  },
  {
   "cell_type": "code",
   "execution_count": 58,
   "id": "76f08e5f-13d3-473a-8e72-50040c1c3c5b",
   "metadata": {},
   "outputs": [
    {
     "name": "stdout",
     "output_type": "stream",
     "text": [
      "Predicted: 6.479876924755445\n"
     ]
    },
    {
     "name": "stderr",
     "output_type": "stream",
     "text": [
      "/home/chandana/.local/lib/python3.8/site-packages/sklearn/base.py:465: UserWarning: X does not have valid feature names, but LinearRegression was fitted with feature names\n",
      "  warnings.warn(\n"
     ]
    }
   ],
   "source": [
    "def unemployment(Region, Year,Month,EstimatedEmployed,EstimatedLabourParticipationRate,Area):\n",
    "    Region=le.fit_transform([Region])[0]\n",
    "    Area=le.fit_transform([Area])[0]\n",
    "    predicted_price = model.predict([[Region, Year,Month,EstimatedEmployed,EstimatedLabourParticipationRate,Area]])[0]\n",
    "    return predicted_price\n",
    "Region=\"AndhraPradesh\"\n",
    "Year=2019\n",
    "Month=5\n",
    "EstimatedEmployed=11999139\n",
    "EstimatedLabourParticipationRate=43.24\n",
    "Area=\"Urban\"\n",
    "prediction=unemployment(Region, Year,Month,EstimatedEmployed,EstimatedLabourParticipationRate,Area)\n",
    "print(f'Predicted:',prediction)"
   ]
  }
 ],
 "metadata": {
  "kernelspec": {
   "display_name": "Python 3 (ipykernel)",
   "language": "python",
   "name": "python3"
  },
  "language_info": {
   "codemirror_mode": {
    "name": "ipython",
    "version": 3
   },
   "file_extension": ".py",
   "mimetype": "text/x-python",
   "name": "python",
   "nbconvert_exporter": "python",
   "pygments_lexer": "ipython3",
   "version": "3.8.10"
  }
 },
 "nbformat": 4,
 "nbformat_minor": 5
}
